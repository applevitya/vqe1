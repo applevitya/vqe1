{
 "cells": [
  {
   "cell_type": "code",
   "execution_count": 5,
   "metadata": {
    "scrolled": true
   },
   "outputs": [],
   "source": [
    "from simulations import *\n",
    "from math import pi\n",
    "from matplotlib import pyplot as plt\n",
    "import numpy as np\n",
    "import matplotlib.pyplot as plt"
   ]
  },
  {
   "cell_type": "markdown",
   "metadata": {},
   "source": [
    "# Optimization"
   ]
  },
  {
   "cell_type": "code",
   "execution_count": 11,
   "metadata": {
    "scrolled": true
   },
   "outputs": [],
   "source": [
    "points = []\n",
    "def callback_func(x):\n",
    "    points.append(H(x)[0])\n",
    "    return x\n",
    "def target_func(x):\n",
    "    return H(x)[0]\n",
    "#x0 = np.random.uniform(0, 2 * pi, 6)\n",
    "# x0 = [5.04116483e-03, 1.09884935e+00, 8.26706055e-01, 3.41551829e+00,4.01166258e+00, 5.30849340e+00]\n",
    "# x0 = [-8.96511828, 4.62359229, 4.44776618, 3.25604477, 1.46245918, 1.77980848]\n",
    "  \n",
    "def gradient_slsqp(x0):\n",
    "    r = 3 / 2\n",
    "    der = np.zeros_like(x0)\n",
    "    x = np.copy(x0)\n",
    "    for i in range(len(x0)):\n",
    "        x[i] = x0[i] + pi / (4 * r)\n",
    "        der[i] = r * target_func(x)\n",
    "        x[i] = x0[i] - pi / (4 * r)\n",
    "        der[i] -= r * target_func(x)\n",
    "        x[i] = x0[i]\n",
    "    return der\n",
    "\n",
    "def gradient_hadamard(x0):\n",
    "    der = np.zeros_like(x0)\n",
    "    for i in range(0, len(x0)):\n",
    "        j = i + 1\n",
    "        der[i] = hadamard_test(x0, j)\n",
    "    return der"
   ]
  },
  {
   "cell_type": "code",
   "execution_count": 17,
   "metadata": {},
   "outputs": [
    {
     "data": {
      "text/plain": [
       "-1.1614908109357631"
      ]
     },
     "execution_count": 17,
     "metadata": {},
     "output_type": "execute_result"
    },
    {
     "data": {
      "image/png": "[encoded data removed]",
      "text/plain": [
       "<Figure size 432x288 with 1 Axes>"
      ]
     },
     "metadata": {
      "needs_background": "light"
     },
     "output_type": "display_data"
    }
   ],
   "source": [
    "points = []\n",
    "result = minimize(target_func, x0=x0, callback=callback_func, method=\"SLSQP\", jac=gradient_slsqp,options={'disp': False, 'maxiter': 2, 'eps': 0, 'ftol': 0})\n",
    "iteration_number = [i for i in range(0, len(points))]\n",
    "plt.scatter(iteration_number, points, color='g', linestyle='--')\n",
    "target_func(result.x)"
   ]
  },
  {
   "cell_type": "code",
   "execution_count": null,
   "metadata": {},
   "outputs": [],
   "source": []
  }
 ],
 "metadata": {
  "kernelspec": {
   "display_name": "Python 3",
   "language": "python",
   "name": "python3"
  },
  "language_info": {
   "codemirror_mode": {
    "name": "ipython",
    "version": 3
   },
   "file_extension": ".py",
   "mimetype": "text/x-python",
   "name": "python",
   "nbconvert_exporter": "python",
   "pygments_lexer": "ipython3",
   "version": "3.7.7"
  }
 },
 "nbformat": 4,
 "nbformat_minor": 4
}
