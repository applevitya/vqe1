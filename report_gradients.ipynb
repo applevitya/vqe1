{
 "cells": [
  {
   "cell_type": "code",
   "execution_count": 2,
   "metadata": {
    "scrolled": false
   },
   "outputs": [],
   "source": [
    "from simulations import *\n",
    "from math import pi\n",
    "import numpy as np\n",
    "import matplotlib.pyplot as plt\n",
    "import matplotlib.mlab as mlab\n",
    "from examples import energy"
   ]
  },
  {
   "cell_type": "markdown",
   "metadata": {},
   "source": [
    "# Optimization"
   ]
  },
  {
   "cell_type": "code",
   "execution_count": 7,
   "metadata": {
    "scrolled": true
   },
   "outputs": [],
   "source": [
    "points = []\n",
    "def callback_func(x):\n",
    "    points.append(np.real(energy(x)))\n",
    "    return False\n",
    "\n",
    "\n",
    "def target_func(x):\n",
    "    return np.real(energy(x))\n",
    "#x0 = np.random.uniform(0, 2 * pi, 6)\n",
    "# x0 = [5.04116483e-03, 1.09884935e+00, 8.26706055e-01, 3.41551829e+00,4.01166258e+00, 5.30849340e+00]\n",
    "# x0 = [-8.96511828, 4.62359229, 4.44776618, 3.25604477, 1.46245918, 1.77980848]\n",
    "  \n",
    "def gradient_slsqp(x0):\n",
    "    r = 3 / 2\n",
    "    der = np.zeros_like(x0)\n",
    "    x = np.copy(x0)\n",
    "    for i in range(len(x0)):\n",
    "        x[i] = x0[i] + pi / (4 * r)\n",
    "        der[i] = r * target_func(x)\n",
    "        x[i] = x0[i] - pi / (4 * r)\n",
    "        der[i] -= r * target_func(x)\n",
    "        x[i] = x0[i]\n",
    "    return der\n",
    "\n",
    "def gradient_hadamard(x0):\n",
    "    der = np.zeros_like(x0)\n",
    "    for i in range(0, len(x0)):\n",
    "        j = i + 1\n",
    "        der[i] = hadamard_test(x0, j)\n",
    "    return der"
   ]
  },
  {
   "cell_type": "markdown",
   "metadata": {},
   "source": [
    "## Hadamard_test"
   ]
  },
  {
   "cell_type": "code",
   "execution_count": null,
   "metadata": {},
   "outputs": [],
   "source": [
    "points = []; x0 = np.random.uniform(0, 2 * pi, 6);\n",
    "result = minimize(target_func, x0=x0, callback=callback_func, method=\"SLSQP\", jac=gradient_hadamard,options={'disp': False, 'maxiter': 400, 'eps': 0, 'ftol': 0})\n",
    "iteration_number = [i for i in range(0, len(points))]\n",
    "\n",
    "fig,ax1 = plt.subplots()\n",
    "ax1.scatter(iteration_number, points, color='g', label = 'random angles');\n",
    "ax1.grid(True); ax1.set_title('SLSQP');ax1.set_ylabel('energy'); ax1.set_xlabel('iteration');\n",
    "print(\"random = \" ,target_func(result.x))\n",
    "ax2 = ax1.twinx()\n",
    "points = [];x0 = [-8.96511828, 4.62359229, 4.44776618, 3.25604477, 1.46245918, 1.77980848]; \n",
    "result = minimize(target_func, x0=x0, callback=callback_func, method=\"SLSQP\", jac=gradient_hadamard,options={'disp': False, 'maxiter': 400, 'eps': 0, 'ftol': 0})\n",
    "iteration_number = [i for i in range(0, len(points))]\n",
    "ax2.scatter(iteration_number, points, color='r', label = 'angle from minimizing');\n",
    "fig.legend(loc = 'upper right');\n",
    "print(\"ne random = \" ,target_func(result.x))"
   ]
  },
  {
   "cell_type": "markdown",
   "metadata": {},
   "source": [
    "## Histogram"
   ]
  },
  {
   "cell_type": "code",
   "execution_count": null,
   "metadata": {
    "scrolled": true
   },
   "outputs": [],
   "source": [
    "with open('Vqe_data/vqe_hadamard_slsqp.txt', 'r') as file:\n",
    "    nums = [row.strip() for row in file]\n",
    "nums = list(map(float, nums))\n",
    "plt.hist(nums,bins=int(len(nums)/40), color = 'green')\n",
    "# Plot formatting\n",
    "plt.xlim(-1.6,-1.25)\n",
    "plt.ylabel('количество повторений')\n",
    "plt.xlabel('значение энергии')\n",
    "plt.title('\"Плохие\" градиенты. Гамильтониан Швингера(m = 0)')\n",
    "plt.show()"
   ]
  },
  {
   "cell_type": "code",
   "execution_count": 114,
   "metadata": {},
   "outputs": [
    {
     "data": {
      "image/png": "[encoded data removed]",
      "text/plain": [
       "<Figure size 432x288 with 1 Axes>"
      ]
     },
     "metadata": {
      "needs_background": "light"
     },
     "output_type": "display_data"
    }
   ],
   "source": [
    "with open('Vqe_data/vqe_SLSQP_1.txt', 'r') as file:\n",
    "    nums = [row.strip() for row in file]\n",
    "nums = list(map(float, nums))\n",
    "plt.hist(nums,bins=int(len(nums)/50), color = 'green')\n",
    "# Plot formatting\n",
    "plt.ylabel('Количество повторений')\n",
    "plt.xlabel('значение энергии')\n",
    "plt.title('ТЕСТ АДАМАРА. Швингер(m = 0). Рандомные начальные углы.')\n",
    "plt.show()"
   ]
  },
  {
   "cell_type": "code",
   "execution_count": null,
   "metadata": {},
   "outputs": [],
   "source": []
  }
 ],
 "metadata": {
  "kernelspec": {
   "display_name": "Python 3",
   "language": "python",
   "name": "python3"
  },
  "language_info": {
   "codemirror_mode": {
    "name": "ipython",
    "version": 3
   },
   "file_extension": ".py",
   "mimetype": "text/x-python",
   "name": "python",
   "nbconvert_exporter": "python",
   "pygments_lexer": "ipython3",
   "version": "3.7.7"
  }
 },
 "nbformat": 4,
 "nbformat_minor": 4
}
